{
 "cells": [
  {
   "cell_type": "markdown",
   "metadata": {},
   "source": [
    "#   Ejercicio1: Crear y usar listas de Python"
   ]
  },
  {
   "cell_type": "code",
   "execution_count": 2,
   "metadata": {},
   "outputs": [
    {
     "name": "stdout",
     "output_type": "stream",
     "text": [
      "La cantidad de planetas es: 8 y son los siguientes: ['Mercurio', 'Venus', 'Tierra', 'Marte', 'Jupiter', 'Saturno', 'Urano', 'Neptuno']\n"
     ]
    }
   ],
   "source": [
    "#   Creamos la lista planets y la mostramos\n",
    "\n",
    "planets = [\"Mercurio\", \"Venus\", \"Tierra\", \"Marte\", \"Jupiter\", \"Saturno\", \"Urano\", \"Neptuno\"]\n",
    "print(f'La cantidad de planetas es: {len(planets)} y son los siguientes: {planets}')\n"
   ]
  },
  {
   "cell_type": "code",
   "execution_count": 3,
   "metadata": {},
   "outputs": [
    {
     "name": "stdout",
     "output_type": "stream",
     "text": [
      "El último planeta es: Plutón\n"
     ]
    }
   ],
   "source": [
    "#   Agregamos a plutón y mostramos el último elemento\n",
    "planets.append(\"Plutón\")\n",
    "print(f'El último planeta es: {planets[-1]}')"
   ]
  },
  {
   "cell_type": "markdown",
   "metadata": {},
   "source": [
    "#   Ejercicio2: Trabajando con datos de una lista"
   ]
  },
  {
   "cell_type": "code",
   "execution_count": 4,
   "metadata": {},
   "outputs": [
    {
     "name": "stdout",
     "output_type": "stream",
     "text": [
      "El planeta Tierra está en la posición 3\n"
     ]
    }
   ],
   "source": [
    "#   Trabajaré con la misma lista de planetas que antes\n",
    "\n",
    "planetaSolicitado = input(\"Ingrese el nombre de un planeta (Favor de comenzar la primera letra en mayúscula): \")\n",
    "\n",
    "#   Enctramos el planeta solicitado en la lista\n",
    "posicionPlaneta = planets.index(planetaSolicitado)\n",
    "print(f'El planeta {planetaSolicitado} está en la posición {posicionPlaneta + 1}')"
   ]
  },
  {
   "cell_type": "code",
   "execution_count": 5,
   "metadata": {},
   "outputs": [
    {
     "name": "stdout",
     "output_type": "stream",
     "text": [
      "Los planetas más cercanos a la Tierra son: ['Mercurio', 'Venus']\n"
     ]
    }
   ],
   "source": [
    "#   Encontrar e imprimir los planetas más cercano al sol que el usuario ingresó\n",
    "print(f'Los planetas más cercanos a la {planetaSolicitado} son: {planets[0:posicionPlaneta]}')"
   ]
  },
  {
   "cell_type": "code",
   "execution_count": 8,
   "metadata": {},
   "outputs": [
    {
     "name": "stdout",
     "output_type": "stream",
     "text": [
      "Los planetas más lejanos a la Tierra son: ['Marte', 'Jupiter', 'Saturno', 'Urano', 'Neptuno', 'Plutón']\n"
     ]
    }
   ],
   "source": [
    "#   Muestra los planetas más lejanos al sol que el usuario ingresó\n",
    "print(f'Los planetas más lejanos a la {planetaSolicitado} son: {planets[posicionPlaneta + 1:]}')"
   ]
  }
 ],
 "metadata": {
  "interpreter": {
   "hash": "abf93771abbd69f2372784c57531190f4cdee4e91db7a25e5c2187ca796d4d12"
  },
  "kernelspec": {
   "display_name": "Python 3.9.5 64-bit",
   "language": "python",
   "name": "python3"
  },
  "language_info": {
   "codemirror_mode": {
    "name": "ipython",
    "version": 3
   },
   "file_extension": ".py",
   "mimetype": "text/x-python",
   "name": "python",
   "nbconvert_exporter": "python",
   "pygments_lexer": "ipython3",
   "version": "3.9.5"
  },
  "orig_nbformat": 4
 },
 "nbformat": 4,
 "nbformat_minor": 2
}
