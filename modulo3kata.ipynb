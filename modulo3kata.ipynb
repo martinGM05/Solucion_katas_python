{
 "cells": [
  {
   "cell_type": "markdown",
   "metadata": {},
   "source": [
    "# 1er Ejercicio: Velocidad del asteroide con advertencia"
   ]
  },
  {
   "cell_type": "code",
   "execution_count": 1,
   "metadata": {},
   "outputs": [
    {
     "name": "stdout",
     "output_type": "stream",
     "text": [
      "ADVERTENCIA: El asteroide se acera a la Tierra demasiado rápido\n"
     ]
    }
   ],
   "source": [
    "velocidadAsteroide = 49 # km/s\n",
    "\n",
    "if velocidadAsteroide > 25:\n",
    "    print(\"ADVERTENCIA: El asteroide se acera a la Tierra demasiado rápido\")\n",
    "else:\n",
    "    print(\"Todo bien\")"
   ]
  },
  {
   "cell_type": "markdown",
   "metadata": {},
   "source": [
    "# 2do Ejercicio: Buscar la luz del asteroide"
   ]
  },
  {
   "cell_type": "code",
   "execution_count": 2,
   "metadata": {},
   "outputs": [
    {
     "name": "stdout",
     "output_type": "stream",
     "text": [
      "No hay ninguna luz en el cielo\n"
     ]
    }
   ],
   "source": [
    "velocidadAsteroide = 19 # km/s\n",
    "\n",
    "if velocidadAsteroide > 20:\n",
    "    print(\"ADVERTENCIA: Miren el asteoriode, hay una luz en el cielo\")\n",
    "elif velocidadAsteroide == 20:\n",
    "    print(\"ADVERTENCIA: Miren el asteoriode, hay una luz en el cielo\")\n",
    "else:\n",
    "    print(\"No hay ninguna luz en el cielo\")"
   ]
  },
  {
   "cell_type": "markdown",
   "metadata": {},
   "source": [
    "# 3er Ejercicio: Uso de operadores `and` y `or`"
   ]
  },
  {
   "cell_type": "code",
   "execution_count": 3,
   "metadata": {},
   "outputs": [
    {
     "name": "stdout",
     "output_type": "stream",
     "text": [
      "Todo bien\n"
     ]
    }
   ],
   "source": [
    "velocidadAsteroide = 19\n",
    "tamanioAsteroide = 25\n",
    "\n",
    "if tamanioAsteroide > 25 and velocidadAsteroide > 25:\n",
    "    print(\"ADVERTENCIA: El asteroide golpeará la Tierra y causará mucho daño\")\n",
    "elif velocidadAsteroide >= 20:\n",
    "    print(\"ADVERTENCIA: Miren el asteoriode, hay una luz en el cielo\")\n",
    "elif tamanioAsteroide < 25:\n",
    "    print('ADVERTENCIA: El asteroide se quemó al entrar en la astmósfera')\n",
    "else:\n",
    "    print('Todo bien')"
   ]
  }
 ],
 "metadata": {
  "interpreter": {
   "hash": "abf93771abbd69f2372784c57531190f4cdee4e91db7a25e5c2187ca796d4d12"
  },
  "kernelspec": {
   "display_name": "Python 3.9.5 64-bit",
   "language": "python",
   "name": "python3"
  },
  "language_info": {
   "codemirror_mode": {
    "name": "ipython",
    "version": 3
   },
   "file_extension": ".py",
   "mimetype": "text/x-python",
   "name": "python",
   "nbconvert_exporter": "python",
   "pygments_lexer": "ipython3",
   "version": "3.9.5"
  },
  "orig_nbformat": 4
 },
 "nbformat": 4,
 "nbformat_minor": 2
}
