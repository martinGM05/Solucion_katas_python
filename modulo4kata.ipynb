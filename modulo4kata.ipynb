{
 "cells": [
  {
   "cell_type": "markdown",
   "metadata": {},
   "source": [
    "# Ejercicio 1: Transformar cadenas"
   ]
  },
  {
   "cell_type": "code",
   "execution_count": 1,
   "metadata": {},
   "outputs": [],
   "source": [
    "text = \"\"\"Interesting facts about the Moon. The Moon is Earth's only satellite. There are several interesting facts about the Moon and how it affects life here on Earth. \n",
    "On average, the Moon moves 4cm away from the Earth every year. This yearly drift is not significant enough to cause immediate effects on Earth. The highest daylight temperature of the Moon is 127 C.\"\"\""
   ]
  },
  {
   "cell_type": "code",
   "execution_count": 2,
   "metadata": {},
   "outputs": [
    {
     "name": "stdout",
     "output_type": "stream",
     "text": [
      "['Interesting facts about the Moon', \"The Moon is Earth's only satellite\", 'There are several interesting facts about the Moon and how it affects life here on Earth', '\\nOn average, the Moon moves 4cm away from the Earth every year', 'This yearly drift is not significant enough to cause immediate effects on Earth', 'The highest daylight temperature of the Moon is 127 C.']\n"
     ]
    }
   ],
   "source": [
    "# Divide el texto por oraciones\n",
    "textSentences = text.split(\". \")\n",
    "print(textSentences)"
   ]
  },
  {
   "cell_type": "code",
   "execution_count": 3,
   "metadata": {},
   "outputs": [],
   "source": [
    "# Palabras clave\n",
    "keyWords = [\"average\", \"temperature\", \"distance\"]\n"
   ]
  },
  {
   "cell_type": "code",
   "execution_count": 4,
   "metadata": {},
   "outputs": [
    {
     "name": "stdout",
     "output_type": "stream",
     "text": [
      "\n",
      "On average, the Moon moves 4cm away from the Earth every year\n",
      "The highest daylight temperature of the Moon is 127 C.\n"
     ]
    }
   ],
   "source": [
    "for sentence in textSentences:\n",
    "    for word in keyWords:\n",
    "        if word in sentence:\n",
    "            print(sentence)\n",
    "            break"
   ]
  },
  {
   "cell_type": "code",
   "execution_count": 5,
   "metadata": {},
   "outputs": [
    {
     "name": "stdout",
     "output_type": "stream",
     "text": [
      "\n",
      "On average, the Moon moves 4cm away from the Earth every year\n",
      "The highest daylight temperature of the Moon is 127 Celsius.\n"
     ]
    }
   ],
   "source": [
    "for sentence in textSentences:\n",
    "    for word in keyWords:\n",
    "        if word in sentence:\n",
    "            print(sentence.replace(' C', ' Celsius'))\n",
    "            break"
   ]
  },
  {
   "cell_type": "markdown",
   "metadata": {},
   "source": [
    "#   Ejercicio 2: Formateando Cadenas"
   ]
  },
  {
   "cell_type": "code",
   "execution_count": 6,
   "metadata": {},
   "outputs": [],
   "source": [
    "# Datos con los que vas a trabajar\n",
    "name = \"Moon\"\n",
    "gravity = 0.00162 # in kms\n",
    "planet = \"Earth\""
   ]
  },
  {
   "cell_type": "code",
   "execution_count": 7,
   "metadata": {},
   "outputs": [],
   "source": [
    "title = f\"Gravity Facts about {name}\""
   ]
  },
  {
   "cell_type": "code",
   "execution_count": 8,
   "metadata": {},
   "outputs": [],
   "source": [
    "# Plantilla\n",
    "templateData = f\"\"\"{'-'*80}\n",
    "Planet Name: {planet}\n",
    "Gravity in {name}: {gravity*1000} m/s^2\n",
    "\"\"\""
   ]
  },
  {
   "cell_type": "code",
   "execution_count": 9,
   "metadata": {},
   "outputs": [
    {
     "name": "stdout",
     "output_type": "stream",
     "text": [
      "\n",
      "Gravity Facts About Moon\n",
      "--------------------------------------------------------------------------------\n",
      "Planet Name: Earth\n",
      "Gravity in Moon: 1.6199999999999999 m/s^2\n",
      "\n",
      "\n"
     ]
    }
   ],
   "source": [
    "template = f\"\"\"\n",
    "{title.title()}\n",
    "{templateData}\n",
    "\"\"\"\n",
    "print(template)"
   ]
  },
  {
   "cell_type": "code",
   "execution_count": 10,
   "metadata": {},
   "outputs": [
    {
     "name": "stdout",
     "output_type": "stream",
     "text": [
      "\n",
      "Gravity Facts About Moon\n",
      "--------------------------------------------------------------------------------\n",
      "Planet Name: Earth\n",
      "Gravity in Moon: 1.6199999999999999 m/s^2\n",
      "\n",
      "\n"
     ]
    }
   ],
   "source": [
    "# Prueba de una diferente luna -- Prueba de la parte de error debido de que no está asociado los nuevos valores\n",
    "name = \"Marte \"\n",
    "gravity = 0.00143\n",
    "planet = \"Ganímedes\"\n",
    "print(template)\n"
   ]
  },
  {
   "cell_type": "code",
   "execution_count": 11,
   "metadata": {},
   "outputs": [
    {
     "name": "stdout",
     "output_type": "stream",
     "text": [
      "\n",
      "Gravity Facts about: Marte \n",
      "-------------------------------------------------------------------------------\n",
      "Planet Name: Ganímedes\n",
      "Gravity in Marte : 0.00143 m/s^2\n",
      "\n"
     ]
    }
   ],
   "source": [
    "# Plantilla con los nuevos valores pero con la gravedad mal debido a que falta la conversión\n",
    "newTemplate = \"\"\"\n",
    "Gravity Facts about: {nameV}\n",
    "-------------------------------------------------------------------------------\n",
    "Planet Name: {planetV}\n",
    "Gravity in {nameV}: {gravityV} m/s^2\n",
    "\"\"\"\n",
    "print(newTemplate.format(nameV=name, planetV=planet, gravityV=gravity))"
   ]
  },
  {
   "cell_type": "code",
   "execution_count": 12,
   "metadata": {},
   "outputs": [
    {
     "name": "stdout",
     "output_type": "stream",
     "text": [
      "\n",
      "Gravity Facts about: Marte \n",
      "-------------------------------------------------------------------------------\n",
      "Planet Name: Ganímedes\n",
      "Gravity in Marte : 1.4300000000000002 m/s^2\n",
      "\n"
     ]
    }
   ],
   "source": [
    "# Se le agrega la conversión a la variable de gravityV\n",
    "print(newTemplate.format(nameV=name, planetV=planet, gravityV=gravity*1000))"
   ]
  }
 ],
 "metadata": {
  "interpreter": {
   "hash": "abf93771abbd69f2372784c57531190f4cdee4e91db7a25e5c2187ca796d4d12"
  },
  "kernelspec": {
   "display_name": "Python 3.9.5 64-bit",
   "language": "python",
   "name": "python3"
  },
  "language_info": {
   "codemirror_mode": {
    "name": "ipython",
    "version": 3
   },
   "file_extension": ".py",
   "mimetype": "text/x-python",
   "name": "python",
   "nbconvert_exporter": "python",
   "pygments_lexer": "ipython3",
   "version": "3.9.5"
  },
  "orig_nbformat": 4
 },
 "nbformat": 4,
 "nbformat_minor": 2
}
