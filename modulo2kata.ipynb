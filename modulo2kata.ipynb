{
 "cells": [
  {
   "cell_type": "markdown",
   "metadata": {},
   "source": [
    "#   Creación Entorno Virtual"
   ]
  },
  {
   "cell_type": "markdown",
   "metadata": {},
   "source": [
    "-   Ejecución del comando ` python -m venv env `\n",
    "    *   ![ComandoParaCrearENV](imagenesKata2/1.-CreacionEntornoVirtual.png)"
   ]
  },
  {
   "cell_type": "markdown",
   "metadata": {},
   "source": [
    "-   Directorio\n",
    "    *   ![](imagenesKata2/2.-Directorios.png)"
   ]
  },
  {
   "cell_type": "markdown",
   "metadata": {},
   "source": [
    "-   Creación de la carpeta source\n",
    "    *   ![](imagenesKata2/3.-CreacionCarpetaSource.png)"
   ]
  },
  {
   "cell_type": "markdown",
   "metadata": {},
   "source": [
    "-   Activación entorno virtual \n",
    "    *   ![](imagenesKata2/4.-Activacion.png)"
   ]
  },
  {
   "cell_type": "markdown",
   "metadata": {},
   "source": [
    "-   Instalación de dependencias ` pip install python-dateutil `\n",
    "    *   ![](imagenesKata2/5.-Instalacion-dateutil.png)"
   ]
  },
  {
   "cell_type": "markdown",
   "metadata": {},
   "source": [
    "-   Directorio con la dependencia recien instalada\n",
    "    *   ![](imagenesKata2/6.-DirectorioConElPaqueteInstalado.png)"
   ]
  },
  {
   "cell_type": "markdown",
   "metadata": {},
   "source": [
    "-   Listado de dependencias ` pip freeze `\n",
    "    *   ![](imagenesKata2/7.-ListadePaquetesInstalados.png)"
   ]
  },
  {
   "cell_type": "markdown",
   "metadata": {},
   "source": [
    "-   Desacativar el entorno virtual\n",
    "    *   ![](imagenesKata2/8.-Desactivado.png)"
   ]
  },
  {
   "cell_type": "markdown",
   "metadata": {},
   "source": [
    "-   Lista de dependecias del entorno virtual desactivado\n",
    "    *   ![](imagenesKata2/9.-ListaDependencias.png)"
   ]
  },
  {
   "cell_type": "markdown",
   "metadata": {},
   "source": [
    "-   Usar paquete instalado\n",
    "    -   ![](imagenesKata2/10.-EjecucionCodigo.png)"
   ]
  }
 ],
 "metadata": {
  "language_info": {
   "name": "python"
  },
  "orig_nbformat": 4
 },
 "nbformat": 4,
 "nbformat_minor": 2
}
