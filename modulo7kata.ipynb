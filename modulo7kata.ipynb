{
 "cells": [
  {
   "cell_type": "markdown",
   "metadata": {},
   "source": [
    "#   Ejercicio 1:    Creación de un bucle \"while\""
   ]
  },
  {
   "cell_type": "code",
   "execution_count": 3,
   "metadata": {},
   "outputs": [
    {
     "name": "stdout",
     "output_type": "stream",
     "text": [
      "La lista de planetas es:  ['Mercurio', 'Marte', 'Tierra']\n"
     ]
    }
   ],
   "source": [
    "planets = []\n",
    "while True:\n",
    "    new_planet = input('Inserte el nombre de un planeta (Inserte \"Fin\" para acabar la lista): ')\n",
    "    if(new_planet == 'Fin'):\n",
    "        break\n",
    "    planets.append(new_planet)\n",
    "\n",
    "print('La lista de planetas es: ', planets)"
   ]
  },
  {
   "cell_type": "markdown",
   "metadata": {},
   "source": [
    "#   Ejercicio 2: Creación de un ciclo \"for\""
   ]
  },
  {
   "cell_type": "code",
   "execution_count": 4,
   "metadata": {},
   "outputs": [
    {
     "name": "stdout",
     "output_type": "stream",
     "text": [
      "El planeta es:  Mercurio\n",
      "El planeta es:  Marte\n",
      "El planeta es:  Tierra\n"
     ]
    }
   ],
   "source": [
    "for planet in planets:\n",
    "    print('El planeta es: ', planet)"
   ]
  }
 ],
 "metadata": {
  "interpreter": {
   "hash": "abf93771abbd69f2372784c57531190f4cdee4e91db7a25e5c2187ca796d4d12"
  },
  "kernelspec": {
   "display_name": "Python 3.9.5 64-bit",
   "language": "python",
   "name": "python3"
  },
  "language_info": {
   "codemirror_mode": {
    "name": "ipython",
    "version": 3
   },
   "file_extension": ".py",
   "mimetype": "text/x-python",
   "name": "python",
   "nbconvert_exporter": "python",
   "pygments_lexer": "ipython3",
   "version": "3.9.5"
  },
  "orig_nbformat": 4
 },
 "nbformat": 4,
 "nbformat_minor": 2
}
