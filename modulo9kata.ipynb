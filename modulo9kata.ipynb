{
 "cells": [
  {
   "cell_type": "markdown",
   "metadata": {},
   "source": [
    "#   Ejercicio 1: Trabajar con argumentos en funciones"
   ]
  },
  {
   "cell_type": "code",
   "execution_count": 6,
   "metadata": {},
   "outputs": [
    {
     "name": "stdout",
     "output_type": "stream",
     "text": [
      "\n",
      "        Informe de combustible:\n",
      "        Promedio: 20.0%\n",
      "        Tanque Principal: 10%\n",
      "        Tanque Secundario: 20%\n",
      "        Hidrogeno: 30%\n",
      "    \n"
     ]
    }
   ],
   "source": [
    "def reporte(tanqueP, tanqueS, hidrogeno):\n",
    "    promedio = (tanqueP + tanqueS + hidrogeno) / 3\n",
    "    return f\"\"\"\n",
    "        Informe de combustible:\n",
    "        Promedio: {promedio}%\n",
    "        Tanque Principal: {tanqueP}%\n",
    "        Tanque Secundario: {tanqueS}%\n",
    "        Hidrogeno: {hidrogeno}%\n",
    "    \"\"\"\n",
    "\n",
    "print(reporte(10, 20, 30))"
   ]
  },
  {
   "cell_type": "code",
   "execution_count": 8,
   "metadata": {},
   "outputs": [
    {
     "data": {
      "text/plain": [
       "20.0"
      ]
     },
     "execution_count": 8,
     "metadata": {},
     "output_type": "execute_result"
    }
   ],
   "source": [
    "def promedio(valores):\n",
    "    total = sum(valores)\n",
    "    longitud = len(valores)\n",
    "    return total / longitud\n",
    "\n",
    "promedio([10, 20, 30])"
   ]
  },
  {
   "cell_type": "code",
   "execution_count": 13,
   "metadata": {},
   "outputs": [
    {
     "name": "stdout",
     "output_type": "stream",
     "text": [
      "\n",
      "        Informe de combustible:\n",
      "        Promedio: 20.0%\n",
      "        Tanque Principal: 10%\n",
      "        Tanque Secundario: 20%\n",
      "        Hidrogeno: 30%\n",
      "    \n"
     ]
    }
   ],
   "source": [
    "#   Actualización:\n",
    "\n",
    "def reporteConPromedio(tanqueP, tanqueS, hidrogeno):\n",
    "    return f\"\"\"\n",
    "        Informe de combustible:\n",
    "        Promedio: {promedio([tanqueP, tanqueS, hidrogeno])}%\n",
    "        Tanque Principal: {tanqueP}%\n",
    "        Tanque Secundario: {tanqueS}%\n",
    "        Hidrogeno: {hidrogeno}%\n",
    "    \"\"\"\n",
    "\n",
    "print(reporteConPromedio(10, 20, 30))"
   ]
  },
  {
   "cell_type": "markdown",
   "metadata": {},
   "source": [
    "#   Ejercicio 2: Trabajo con argumentos de palabra clave"
   ]
  },
  {
   "cell_type": "code",
   "execution_count": 15,
   "metadata": {},
   "outputs": [
    {
     "name": "stdout",
     "output_type": "stream",
     "text": [
      "\n",
      "    Informe de mision:\n",
      "    Mision a Marte\n",
      "    Tiempo total de vuelo: 45 minutos\n",
      "    Total combustible: 600000 galones\n",
      "    \n"
     ]
    }
   ],
   "source": [
    "def reporteMision(tiempoPrelanzamiento, tiempoVuelo, destino, tanqueE, tanqueI):\n",
    "    return f\"\"\"\n",
    "    Informe de mision:\n",
    "    Mision a {destino}\n",
    "    Tiempo total de vuelo: {tiempoPrelanzamiento + tiempoVuelo} minutos\n",
    "    Total combustible: {tanqueE + tanqueI} galones\n",
    "    \"\"\"\n",
    "print(reporteMision(10, 35, \"Marte\", 300000, 300000))"
   ]
  },
  {
   "cell_type": "code",
   "execution_count": 25,
   "metadata": {},
   "outputs": [
    {
     "name": "stdout",
     "output_type": "stream",
     "text": [
      "\n",
      "    Informe de mision:\n",
      "    Mision a Marte\n",
      "    Tiempo total de vuelo: 45 minutos\n",
      "    Total combustible: 600000 galones\n",
      "    \n"
     ]
    }
   ],
   "source": [
    "# Actualización de la función con palabras clave:\n",
    "def reporteMisionClave(destino, *minutos, **combustible):\n",
    "    return f\"\"\"\n",
    "    Informe de mision:\n",
    "    Mision a {destino}\n",
    "    Tiempo total de vuelo: {sum(minutos)} minutos\n",
    "    Total combustible: {sum(combustible.values())} galones\n",
    "    \"\"\"\n",
    "print(reporteMisionClave(\"Marte\", 5, 5, 35, tanqueE=300000, tanqueI=300000))"
   ]
  },
  {
   "cell_type": "code",
   "execution_count": 42,
   "metadata": {},
   "outputs": [
    {
     "name": "stdout",
     "output_type": "stream",
     "text": [
      " Informe de mision:\n",
      "    Mision a Marte\n",
      "    Tiempo total de vuelo: 45 minutos\n",
      "    Total combustible: 600000 galones\n",
      "    tanqueE: 300000 galones - tanqueI: 300000 galones \n"
     ]
    }
   ],
   "source": [
    "#   Actualización con especificación de cada tanque:\n",
    "def reporteConEspecificacion(destino, *minutos, **combustible):\n",
    "    reporte =  f\"\"\" Informe de mision:\n",
    "    Mision a {destino}\n",
    "    Tiempo total de vuelo: {sum(minutos)} minutos\n",
    "    Total combustible: {sum(combustible.values())} galones\n",
    "    \"\"\"\n",
    "    for tanque, valor in combustible.items():\n",
    "        reporte += f\"{tanque}: {valor} galones - \"\n",
    "    return reporte\n",
    "\n",
    "print(reporteConEspecificacion(\"Marte\", 5, 5, 35, tanqueE=300000, tanqueI=300000)[:-2])"
   ]
  }
 ],
 "metadata": {
  "interpreter": {
   "hash": "abf93771abbd69f2372784c57531190f4cdee4e91db7a25e5c2187ca796d4d12"
  },
  "kernelspec": {
   "display_name": "Python 3.9.5 64-bit",
   "language": "python",
   "name": "python3"
  },
  "language_info": {
   "codemirror_mode": {
    "name": "ipython",
    "version": 3
   },
   "file_extension": ".py",
   "mimetype": "text/x-python",
   "name": "python",
   "nbconvert_exporter": "python",
   "pygments_lexer": "ipython3",
   "version": "3.9.5"
  },
  "orig_nbformat": 4
 },
 "nbformat": 4,
 "nbformat_minor": 2
}
