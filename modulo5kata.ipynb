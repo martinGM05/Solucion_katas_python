{
 "cells": [
  {
   "cell_type": "markdown",
   "metadata": {},
   "source": [
    "#   Ejercicio1: Utilizar Operadores Artiméticos."
   ]
  },
  {
   "cell_type": "code",
   "execution_count": 1,
   "metadata": {},
   "outputs": [
    {
     "name": "stdout",
     "output_type": "stream",
     "text": [
      "La distancia entre la Tierra y Jupiter es de: 628949330 KM\n",
      "La distancia entre la Tierra y Jupiter es de: 390577534 MI\n"
     ]
    }
   ],
   "source": [
    "planeta_tierra = 149597870\n",
    "planeta_jupiter = 778547200\n",
    "\n",
    "distancia_KM = planeta_jupiter - planeta_tierra\n",
    "print(f'La distancia entre la Tierra y Jupiter es de: {distancia_KM} KM')\n",
    "\n",
    "distancia_MI = distancia_KM * 0.621\n",
    "print(f'La distancia entre la Tierra y Jupiter es de: {round(distancia_MI)} MI')"
   ]
  },
  {
   "cell_type": "markdown",
   "metadata": {},
   "source": [
    "#   Ejercicio2: Convierte cadenas en números y usa valores absolutos"
   ]
  },
  {
   "cell_type": "code",
   "execution_count": 2,
   "metadata": {},
   "outputs": [
    {
     "name": "stdout",
     "output_type": "stream",
     "text": [
      "La distancia entre Tierra y Jupiter es de: 628949330 KM\n",
      "La distancia entre Tierra y Jupiter es de: 390577534 MI\n"
     ]
    }
   ],
   "source": [
    "# Input - Distancia del sol cada planeta (2)\n",
    "# Convertimos el valor de la entrada a entero directamente\n",
    "planeta1 = input('Ingrese el nombre del primer planeta: ')\n",
    "distancia_planeta1 = int(input(f'Ingrese la distancia de {planeta1}: '))\n",
    "planeta2 = input('Ingrese el nombre del segundo planeta: ')\n",
    "distancia_planeta2 = int(input(f'Ingrese la distancia de {planeta2}: '))\n",
    "distancia_km =  abs(distancia_planeta2 - distancia_planeta1)\n",
    "print(f'La distancia entre {planeta1} y {planeta2} es de: {distancia_km} KM')\n",
    "\n",
    "distancia_mi = round(distancia_km * 0.621)\n",
    "print(f'La distancia entre {planeta1} y {planeta2} es de: {abs(distancia_mi)} MI')\n"
   ]
  }
 ],
 "metadata": {
  "interpreter": {
   "hash": "abf93771abbd69f2372784c57531190f4cdee4e91db7a25e5c2187ca796d4d12"
  },
  "kernelspec": {
   "display_name": "Python 3.9.5 64-bit",
   "language": "python",
   "name": "python3"
  },
  "language_info": {
   "codemirror_mode": {
    "name": "ipython",
    "version": 3
   },
   "file_extension": ".py",
   "mimetype": "text/x-python",
   "name": "python",
   "nbconvert_exporter": "python",
   "pygments_lexer": "ipython3",
   "version": "3.9.5"
  },
  "orig_nbformat": 4
 },
 "nbformat": 4,
 "nbformat_minor": 2
}
